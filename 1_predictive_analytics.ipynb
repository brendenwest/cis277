{
  "nbformat": 4,
  "nbformat_minor": 0,
  "metadata": {
    "colab": {
      "provenance": [],
      "authorship_tag": "ABX9TyOVlNTRStkKJXyLVr5XanTa",
      "include_colab_link": true
    },
    "kernelspec": {
      "name": "python3",
      "display_name": "Python 3"
    },
    "language_info": {
      "name": "python"
    }
  },
  "cells": [
    {
      "cell_type": "markdown",
      "metadata": {
        "id": "view-in-github",
        "colab_type": "text"
      },
      "source": [
        "<a href=\"https://colab.research.google.com/github/brendenwest/cis277/blob/main/1_predictive_analytics.ipynb\" target=\"_parent\"><img src=\"https://colab.research.google.com/assets/colab-badge.svg\" alt=\"Open In Colab\"/></a>"
      ]
    },
    {
      "cell_type": "markdown",
      "source": [
        "# Intro to Data Analytics II\n",
        "\n",
        "### Reading\n",
        "\n",
        "- Data Mining for Business Analytics - Ch 1, 2.1 - 2.4\n",
        "\n",
        "### Learning Outcomes\n",
        "\n",
        "- Data Analytics terminology\n",
        "- Overview of data mining\n",
        "- Descriptive -v- predictive analytics\n",
        "\n",
        "### Terminology\n",
        "\n",
        "*   **Business Analytics** - the practice and art of bringing quantitative data to bear on decision-making\n",
        "*   **Business Intelligence** - data visualization and reporting (descriptive statistics) for understanding business activity\n",
        "*   **Predictive Analytics** - techniques to identity data relationships and predict new data records\n",
        "*   **Data Mining** - statistical and machine-learning methods that inform decision-making by identifying data relationships and patterns. Deals with large datasets where sampling issues of classical statistics don't apply.\n",
        "*   **Big Data** - refers to abundance of data available for analysis\n",
        "*   **Statistical Models** - algorithmic approximation of a pattern or relationship found in sample data\n",
        "*   **Data Science** - Application of statistics, machine learning, math, sowftware skills, and domain knowledge to address a business question about the future\n",
        "*   **Machine Learning** - algorithms that learn patterns directly from data, often in layered or iterative fashion\n",
        "\n",
        "*** Data Mining\n",
        "\n",
        "*** Predictive Analytics\n",
        "\n",
        "Typically involves answering questions about the future, such as:\n",
        "- is this transaction fraudulent?\n",
        "- is this email spam/phishing?\n",
        "- will this load applicant default?\n",
        "- what products does this customer want to buy?\n",
        "- how much will houses cost next year?\n",
        "\n",
        "#### terminology\n",
        "\n",
        "- **Independent variable** (aka predictor, feature) - a measurement that may be related to the dependent variable\n",
        "- **Dependent variable** (aka response, outcome) - the variable being predicted\n",
        "- **Observation (record)** - unit of analysis for which measurements are taken\n",
        "- **model** - see above\n",
        "- **Confidence** - a measure how well a prediction matches actual observed data. Can also refer to conditional probability measure for association rules.\n",
        "- **Sample** - a subset of full available data set\n",
        "- **Supervised Learning** - process of developing a predictive model with data where output value is known\n",
        "- **Unsupervised Learning** - process of developing a predictive model with data where output value is not known\n",
        "- **Training set** - subset of data used for model development\n",
        "- **Test set** - data withheld from model development process. Used to assess how model performance against new data.\n"
      ],
      "metadata": {
        "id": "5jTi-hOS3St7"
      }
    },
    {
      "cell_type": "code",
      "execution_count": null,
      "metadata": {
        "id": "91BwzXJD3P31"
      },
      "outputs": [],
      "source": []
    }
  ]
}